{
 "cells": [
  {
   "cell_type": "markdown",
   "id": "e5f3d70e",
   "metadata": {},
   "source": [
    "# Types\n",
    "\n",
    "Devinez le type des fonctions suivantes et vérifier avec OCaml :\n",
    "```ocaml\n",
    "let f x y = x**y\n",
    "```\n",
    "```ocaml\n",
    "let g x y = x (y + 1)\n",
    "```\n",
    "```ocaml\n",
    "let h x y z = x (3. *. (y z)) + 1\n",
    "```\n",
    "Puis utilisez ces fonctions sur des arguments de votre choix."
   ]
  },
  {
   "cell_type": "markdown",
   "id": "2a10d305-a22b-48a9-9639-8b4047b41e96",
   "metadata": {
    "tags": []
   },
   "source": [
    "# Tangente hyperbolique\n",
    "\n",
    "Définir en OCaml la fonction $\\tanh : x \\longmapsto \\frac{e^x - e^{-x}}{e^x + e^{-x}}$ en utilisant un seul appel à la fonction `exp : float -> float` de OCaml."
   ]
  },
  {
   "cell_type": "code",
   "execution_count": 1,
   "id": "fa2852f3-a244-40a3-b14b-9469fed3428f",
   "metadata": {},
   "outputs": [
    {
     "data": {
      "text/plain": [
       "val tanha : float -> float = <fun>\n"
      ]
     },
     "execution_count": 1,
     "metadata": {},
     "output_type": "execute_result"
    }
   ],
   "source": [
    "let tanha x = \n",
    "let expo x = exp x in\n",
    "(expo x -. expo (-.x)) /. (expo x +. (expo (-.x)));;"
   ]
  },
  {
   "cell_type": "markdown",
   "id": "fc8ce049",
   "metadata": {},
   "source": [
    "# Géométrie\n",
    "\n",
    "Le type `float*float` désigne un couple de flottant, représentant un point `p` dans $\\mathbb{R}^2$. On peut récupérer les coordonnées de `p` avec `let x, y = p` . Par exemple :"
   ]
  },
  {
   "cell_type": "code",
   "execution_count": 1,
   "id": "88e5be36",
   "metadata": {
    "execution": {
     "iopub.execute_input": "2021-09-06T11:40:05.869393Z",
     "iopub.status.busy": "2021-09-06T11:40:05.866912Z",
     "iopub.status.idle": "2021-09-06T11:40:05.875260Z",
     "shell.execute_reply": "2021-09-06T11:40:05.873454Z"
    }
   },
   "outputs": [
    {
     "data": {
      "text/plain": [
       "- : float = 2.1\n"
      ]
     },
     "execution_count": 1,
     "metadata": {},
     "output_type": "execute_result"
    }
   ],
   "source": [
    "let p = (2.1, 3.7) in (* exemple de point *)\n",
    "let x, y = p in (* récupération des coordonnées *)\n",
    "x;; (* affichage de x *)"
   ]
  },
  {
   "cell_type": "markdown",
   "id": "7c497359",
   "metadata": {},
   "source": [
    "**Exercice** Écrire une fonction `aire_boule : float -> float` telle que `aire_boule r` renvoie l'aire d'une boule (disque en dimension 3) de rayon `r`, c'est à dire $\\frac{4 \\pi r^3}{3}$. On pourra utiliser `Float.pi`."
   ]
  },
  {
   "cell_type": "code",
   "execution_count": 5,
   "id": "02adc255-384a-4cfd-8a07-78c9584dadfe",
   "metadata": {},
   "outputs": [
    {
     "data": {
      "text/plain": [
       "val aire_boule : float -> float = <fun>\n"
      ]
     },
     "execution_count": 5,
     "metadata": {},
     "output_type": "execute_result"
    }
   ],
   "source": [
    "let aire_boule r = 4. *. Float.pi *. r**3. /. 3.;;"
   ]
  },
  {
   "cell_type": "markdown",
   "id": "33056159",
   "metadata": {},
   "source": [
    "**Exercice** Écrire une fonction `distance : float*float -> float*float -> float` telle que `distance p1 p2` renvoie la distance euclidienne entre les points `p1` et `p2`.  \n",
    "Vérifier que la distance entre $(0, 0)$ et $(1, 1)$ est (approximativement) $\\sqrt{2}$."
   ]
  },
  {
   "cell_type": "code",
   "execution_count": 6,
   "id": "9151bc75-9ed4-4ee8-8e35-8e580e7c7a95",
   "metadata": {},
   "outputs": [
    {
     "data": {
      "text/plain": [
       "val distance : float * float -> float * float -> float = <fun>\n"
      ]
     },
     "execution_count": 6,
     "metadata": {},
     "output_type": "execute_result"
    },
    {
     "data": {
      "text/plain": [
       "- : float = 1.41421356237309515\n"
      ]
     },
     "execution_count": 6,
     "metadata": {},
     "output_type": "execute_result"
    },
    {
     "data": {
      "text/plain": [
       "- : float = 1.41421356237309515\n"
      ]
     },
     "execution_count": 6,
     "metadata": {},
     "output_type": "execute_result"
    }
   ],
   "source": [
    "let distance p1 p2 = \n",
    "let xp1, yp1=p1 in\n",
    "let xp2, yp2=p2 in\n",
    "sqrt((xp1 -. xp2)**2. +. (yp1 -. yp2)**2.) ;;\n",
    "distance (0.,0.) (1.,1.);;\n",
    "sqrt 2."
   ]
  },
  {
   "cell_type": "markdown",
   "id": "311d0730",
   "metadata": {},
   "source": [
    "**Exercice** Écrire une fonction `polaire : float*float -> float*float` qui, étant donné les coordonnées cartésiennes $(x, y)$ d'un point, renvoie ses coordonnées polaires $(r, \\theta)$. On pourra utiliser `cos` et `sin` en OCaml.  \n",
    "Quelles sont les coordonnées polaires de $(x, y) = (1, 1)$, de $(x, y) = (\\frac{\\sqrt{3}}{2}, \\frac{1}{2})$?"
   ]
  },
  {
   "cell_type": "code",
   "execution_count": 28,
   "id": "d6a591eb-27f2-4db7-845c-3524d69ee957",
   "metadata": {},
   "outputs": [
    {
     "data": {
      "text/plain": [
       "val polaire : float * float -> float * float = <fun>\n"
      ]
     },
     "execution_count": 28,
     "metadata": {},
     "output_type": "execute_result"
    },
    {
     "data": {
      "text/plain": [
       "- : float * float = (1.41421356237309515, 0.785398163397448279)\n"
      ]
     },
     "execution_count": 28,
     "metadata": {},
     "output_type": "execute_result"
    },
    {
     "data": {
      "text/plain": [
       "- : float * float = (0.999999999999999889, 1.04719755119659763)\n"
      ]
     },
     "execution_count": 28,
     "metadata": {},
     "output_type": "execute_result"
    }
   ],
   "source": [
    "let polaire p = \n",
    "let x, y = p in\n",
    "let p0 =distance p (0.,0.) in\n",
    "let p1 = atan(x/.y) in\n",
    "p0, p1;;\n",
    "polaire (1.,1.);;\n",
    "polaire ((sqrt(3.)/.2.),1./.2.)"
   ]
  },
  {
   "cell_type": "markdown",
   "id": "10dcf4cb",
   "metadata": {},
   "source": [
    "**Exercice** Écrire une fonction `milieu : float*float -> float*float -> float*float` telle que `milieu p1 p2` renvoie le milieu du segment d'extrémités `p1` et `p2`."
   ]
  },
  {
   "cell_type": "code",
   "execution_count": 32,
   "id": "d9dde1b1-e9e3-4e27-ae3b-d8418e56d510",
   "metadata": {},
   "outputs": [
    {
     "data": {
      "text/plain": [
       "val milieu : float * float -> float * float -> float * float = <fun>\n"
      ]
     },
     "execution_count": 32,
     "metadata": {},
     "output_type": "execute_result"
    }
   ],
   "source": [
    "let milieu p1 p2 = \n",
    "let x1,y1= p1 in\n",
    "let x2,y2 = p2 in\n",
    "(x1+.x2)/.2. , (y1+.y2)/.2."
   ]
  },
  {
   "cell_type": "markdown",
   "id": "da58592f",
   "metadata": {},
   "source": [
    "**Exercice** Écrire une fonction `parallelogramme : float*float -> float*float -> float*float -> float*float -> bool` telle que `parallelogramme p1 p2 p3 p4` renvoie `true` si les points `p1`, `p1`, `p1`, `p1` forment un parallélogramme, c'est à dire si les côtés opposés sont (approximativement) de même longueur.  \n",
    "On fera attention à ne pas comparer 2 flottants avec `=`, mais regarder à la place si la différence est petite (< 0.001 par exemple)."
   ]
  },
  {
   "cell_type": "code",
   "execution_count": 19,
   "id": "b245b086-e2bb-402f-acd4-aad478505663",
   "metadata": {},
   "outputs": [
    {
     "data": {
      "text/plain": [
       "val parallelogramme :\n",
       "  float * float -> float * float -> float * float -> float * float -> bool =\n",
       "  <fun>\n"
      ]
     },
     "execution_count": 19,
     "metadata": {},
     "output_type": "execute_result"
    },
    {
     "data": {
      "text/plain": [
       "- : bool = true\n"
      ]
     },
     "execution_count": 19,
     "metadata": {},
     "output_type": "execute_result"
    },
    {
     "ename": "interrupt",
     "evalue": "intterupt",
     "output_type": "error",
     "traceback": [
      "\u001b[31mException: Sys.Break.\u001b[0m"
     ]
    }
   ],
   "source": [
    "let parallelogramme p1 p2 p3 p4 = \n",
    "( abs_float((distance p3 p1) -. (distance p2 p4))) < 0.001;;\n",
    "parallelogramme (1.,1.) (3.,5.) (2.,7.) (4.,11.)"
   ]
  },
  {
   "cell_type": "markdown",
   "id": "70f6ebc5",
   "metadata": {},
   "source": [
    "# Congruence\n",
    "\n",
    "Le but de cet exercice est de calculer $1357^{2013}$ mod $5$ (mais la méthode utilisée s'applique dans un grande nombre d'exercices mathématiques).  \n",
    "On rappelle que les congruences sont compatibles avec la puissance :\n",
    "$$a \\equiv b [n] \\Longrightarrow a^k \\equiv b^k [n]$$\n",
    "\n",
    "1. Soit $k$ un entier positif. Que vaut $2^{4k}$ mod $5$? On pourra calculer des valeurs avec OCaml puis le démontrer mathématiquement.\n",
    "2. Que vaut $1357$ mod $5$? En déduire la valeur de $1357^{2013}$ mod $5$."
   ]
  },
  {
   "cell_type": "markdown",
   "id": "e8b8bca3-823f-407a-a78c-5f65d9be0ae1",
   "metadata": {},
   "source": [
    "I)  $2^4 \\equiv 1 [5] \\Longrightarrow 2^{4^k} \\equiv 1^k [5]  \\Longrightarrow 2^{4k} \\equiv 1 [5]$\n",
    "\n",
    "II)  $1357 \\equiv 2 [5] \\Longrightarrow 1357^{2013} \\equiv 2^{2013} [5] $\n",
    "\n",
    "Or on sait grâce à 1. que $2^{4k} \\equiv 1 [5]$ donc $2^{4*503} \\equiv 1 [5] \\Longrightarrow 2^{2012} \\equiv 1 [5] \\Longrightarrow 2^{2013} \\equiv 2 [5] \\Longrightarrow 1357^{2013} \\equiv 2 [5]$\n",
    "\n"
   ]
  },
  {
   "cell_type": "markdown",
   "id": "41c60907",
   "metadata": {},
   "source": [
    "# Nombres aléatoires\n",
    "\n",
    "`Random.int n` permet d'obtenir un entier uniformément au hasard entre 0 et `n - 1` (chacun de ces entiers a la même probabilité $\\frac{1}{n}$ d'être obtenu).  \n",
    "Dans cet exercice, on imagine que l'on possède comme seule source aléatoire un dé à 5 faces (c'est à dire que l'on a seulement le droit d'utiliser `Random.int 5`).\n",
    "\n",
    "1. Calculer `(Random.int 5) + (Random.int 5)` plusieurs fois. Est-ce que le résultat vous semble être un entier uniformément au hasard entre 0 et 8?  \n",
    "2. Quelle est la probabilité d'obtenir `0` avec `(Random.int 5) + (Random.int 5)`? D'obtenir `1`? Quelle est l'entier qui a le plus de chances d'apparaître?\n",
    "3. Comment générer uniformément un entier entre 0 et 24? (C'est à dire passer de 5 possibilités à 25)\n",
    "3. Comment générer uniformément un entier entre 0 et 6? Écrire une fonction pour le faire. On utilisera une méthode par rejection (rejection sampling) : générer dans un espace plus grand et regénérer si la valeur n'est pas dans l'intervalle souhaité.  \n",
    "Pour cela on utilisera une boucle while :\n",
    "```ocaml\n",
    "while ... do\n",
    "    ...\n",
    "done\n",
    "```"
   ]
  },
  {
   "cell_type": "code",
   "execution_count": 10,
   "id": "2beff3cf",
   "metadata": {},
   "outputs": [
    {
     "data": {
      "text/plain": [
       "- : int * int * int * int * int * int * int * int * int =\n",
       "(3987, 7998, 11829, 16036, 20108, 15967, 11992, 8017, 4066)\n"
      ]
     },
     "execution_count": 10,
     "metadata": {},
     "output_type": "execute_result"
    }
   ],
   "source": [
    "let (nbrrepet, n0, n1, n2, n3, n4, n5, n6, n7, n8) = (ref 100000, ref 0, ref 0, ref 0, ref 0, ref 0, ref 0, ref 0, ref 0, ref 0) in\n",
    "\n",
    "while !nbrrepet >0 do\n",
    "nbrrepet:=!nbrrepet-1;\n",
    "let a =(Random.int 5) + (Random.int 5) in\n",
    "if a = 0 then n0:=!n0+1 else\n",
    "if a = 1 then n1:=!n1+1 else\n",
    "if a = 2 then n2:=!n2+1 else\n",
    "if a = 3 then n3:=!n3+1 else\n",
    "if a = 4 then n4:=!n4+1 else\n",
    "if a = 5 then n5:=!n5+1 else\n",
    "if a = 6 then n6:=!n6+1 else\n",
    "if a = 7 then n7:=!n7+1 else\n",
    "if a = 8 then n8:=!n8+1\n",
    "done;\n",
    "(!n0, !n1, !n2, !n3, !n4, !n5, !n6, !n7, !n8)"
   ]
  },
  {
   "cell_type": "markdown",
   "id": "550ab794-dc59-4783-af6c-21109a004268",
   "metadata": {},
   "source": [
    "1.  L'experience ne semble pas être equiprobable. \n",
    "2.  Il semblerait que la probabilité d'obtenir 0 soit environ de 4%, et de 8% pour 1. L'entier qui a le plus de chance d'apparaître est 4 avec environ 20%."
   ]
  },
  {
   "cell_type": "code",
   "execution_count": 3,
   "id": "69c7852c-2259-4b85-8ab4-84c742a8d4d2",
   "metadata": {},
   "outputs": [
    {
     "data": {
      "text/plain": [
       "val randint25 : int = 4\n"
      ]
     },
     "execution_count": 3,
     "metadata": {},
     "output_type": "execute_result"
    }
   ],
   "source": [
    "let randint25 = (Random.int 5)*5 + Random.int 5"
   ]
  },
  {
   "cell_type": "code",
   "execution_count": 31,
   "id": "460febca-4c10-471b-8067-d6c0b47a484d",
   "metadata": {},
   "outputs": [
    {
     "data": {
      "text/plain": [
       "val random7 : int = 2\n"
      ]
     },
     "execution_count": 31,
     "metadata": {},
     "output_type": "execute_result"
    }
   ],
   "source": [
    "let random7 = \n",
    "let a = ref ((Random.int 5)*5 + Random.int 5) in\n",
    "while !a>6 do\n",
    "a:= (Random.int 5)*5 + Random.int 5\n",
    "done; \n",
    "!a\n",
    "(*je ne remplace pas (Random.int 5)*5 + Random.int 5 par randint25 car l'appel randint25 ne fait que reprendre la valeur du dernier appel de la \n",
    "fonction et enlève ainsi tout l'aléatoire*)"
   ]
  },
  {
   "cell_type": "markdown",
   "id": "d9bb218a-db39-4789-9b91-3986555f89a3",
   "metadata": {},
   "source": [
    "Bonus : refaire randint 8 uniforme par l'utilisation de 3 randint 2"
   ]
  },
  {
   "cell_type": "code",
   "execution_count": 2,
   "id": "a8a74f1c-e601-41b7-b59e-7f2a43ef40d7",
   "metadata": {},
   "outputs": [
    {
     "data": {
      "text/plain": [
       "val expInt : int -> int -> int = <fun>\n"
      ]
     },
     "execution_count": 2,
     "metadata": {},
     "output_type": "execute_result"
    }
   ],
   "source": [
    "let expInt a b =\n",
    "let c = ref 1 in\n",
    "for i=0 to b-1 do\n",
    "c:=!c*a;\n",
    "done;\n",
    "!c;;"
   ]
  },
  {
   "cell_type": "code",
   "execution_count": 3,
   "id": "9b06f1c4-e2d3-4001-a1c9-12e28b93f770",
   "metadata": {
    "tags": []
   },
   "outputs": [
    {
     "data": {
      "text/plain": [
       "val randomint8 : int = 5\n"
      ]
     },
     "execution_count": 3,
     "metadata": {},
     "output_type": "execute_result"
    }
   ],
   "source": [
    "let randomint8 = \n",
    "let a = ref 0 in \n",
    "for i=0 to 2 do \n",
    "if Random.int 2=0 then \n",
    "a:=!a+expInt 2 i;\n",
    "done;\n",
    "!a;;\n"
   ]
  },
  {
   "cell_type": "markdown",
   "id": "57072e2b-52c3-459c-bd45-092dbd2fe808",
   "metadata": {},
   "source": [
    "Test de randomint8"
   ]
  },
  {
   "cell_type": "code",
   "execution_count": 4,
   "id": "84bb9994-b9f8-429d-9bdf-e0dc91b4d0bd",
   "metadata": {},
   "outputs": [
    {
     "data": {
      "text/plain": [
       "- : int * int * int * int * int * int * int * int =\n",
       "(12439, 12470, 12499, 12365, 12763, 12459, 12549, 12456)\n"
      ]
     },
     "execution_count": 4,
     "metadata": {},
     "output_type": "execute_result"
    }
   ],
   "source": [
    "let (nbrrepet, n0, n1, n2, n3, n4, n5, n6, n7) = (ref 100000, ref 0, ref 0, ref 0, ref 0, ref 0, ref 0, ref 0, ref 0) in\n",
    "while !nbrrepet >0 do\n",
    "nbrrepet:=!nbrrepet-1;\n",
    "let a = \n",
    "(*randomint8*)\n",
    "let d = ref 0 in \n",
    "for i=0 to 2 do \n",
    "if Random.int 2=0 then \n",
    "d:=!d+expInt 2 i;\n",
    "done;\n",
    "!d;\n",
    "\n",
    "in\n",
    "if a = 0 then n0:=!n0+1 else\n",
    "if a = 1 then n1:=!n1+1 else\n",
    "if a = 2 then n2:=!n2+1 else\n",
    "if a = 3 then n3:=!n3+1 else\n",
    "if a = 4 then n4:=!n4+1 else\n",
    "if a = 5 then n5:=!n5+1 else\n",
    "if a = 6 then n6:=!n6+1 else\n",
    "if a = 7 then n7:=!n7+1 \n",
    "done;\n",
    "(!n0, !n1, !n2, !n3, !n4, !n5, !n6, !n7);;"
   ]
  }
 ],
 "metadata": {
  "kernelspec": {
   "display_name": "OCaml default",
   "language": "OCaml",
   "name": "ocaml-jupyter"
  },
  "language_info": {
   "codemirror_mode": "text/x-ocaml",
   "file_extension": ".ml",
   "mimetype": "text/x-ocaml",
   "name": "OCaml",
   "nbconverter_exporter": null,
   "pygments_lexer": "OCaml",
   "version": "4.08.1"
  }
 },
 "nbformat": 4,
 "nbformat_minor": 5
}
