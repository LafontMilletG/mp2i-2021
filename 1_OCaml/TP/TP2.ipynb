{
 "cells": [
  {
   "cell_type": "markdown",
   "id": "5d6a2457",
   "metadata": {},
   "source": [
    "# TP 2 : récursivité et conditions\n",
    "\n",
    "Dans tout le TP, il est interdit d'utiliser des boucles (pas de `for` ni `while`).\n",
    "\n",
    "Rappel : pensez à tester toutes vos fonctions sur des exemples."
   ]
  },
  {
   "cell_type": "markdown",
   "id": "42f52927",
   "metadata": {},
   "source": [
    "## Petites questions\n",
    "\n",
    "1. Définir une fonction `divise` telle que `divise a b` renvoie `true` si  `a` divise `b`, `false` sinon. Il est interdit d'utiliser `if`.\n",
    "2. Définir une fonction récursive `somme` telle que `somme n` renvoie $\\sum_{k=1}^n k^2$.\n",
    "3. Définir une fonction récursive `u` telle que `u n` renvoie $u_n$ définie par :\n",
    "$$u_0 = 42$$\n",
    "$$u_{n} = 3\\sqrt{u_{n - 1}} + 2$$\n",
    "4. Définir une fonction récursive `v` telle que `v a n` renvoie $v_n$ définie par (on fera attention à n'utiliser qu'un appel récursif) :\n",
    "$$v_0 = a$$\n",
    "$$v_{n + 1} = \\frac{1}{2}(v_n + \\frac{a}{v_n})$$\n",
    "5. Calculer `v a n` pour plusieurs valeurs de `a` et de `n` : que peut-on conjecturer sur la limite de $v_n$ ? Optionnel : le démontrer.  \n",
    "6. Soient $a$ et $b$ deux entiers et $q, r$ le quotient et reste de la division euclidienne de $a$ par $b$ ($a = bq + r$). En utilisant le fait que $PGCD(a, b)$ = $PGCD(b, r)$, écrire une fonction `euclide` telle que `euclide a b` renvoie le PGCD de $a$ et $b$."
   ]
  },
  {
   "cell_type": "code",
   "execution_count": 2,
   "id": "01f8308f-ef08-4339-b80b-a621f935ab98",
   "metadata": {},
   "outputs": [
    {
     "data": {
      "text/plain": [
       "val divise : int -> int -> bool = <fun>\n"
      ]
     },
     "execution_count": 2,
     "metadata": {},
     "output_type": "execute_result"
    },
    {
     "data": {
      "text/plain": [
       "val somme : ?k:int -> int -> int = <fun>\n"
      ]
     },
     "execution_count": 2,
     "metadata": {},
     "output_type": "execute_result"
    },
    {
     "data": {
      "text/plain": [
       "val u : int -> float = <fun>\n"
      ]
     },
     "execution_count": 2,
     "metadata": {},
     "output_type": "execute_result"
    },
    {
     "data": {
      "text/plain": [
       "val v : float -> int -> float = <fun>\n"
      ]
     },
     "execution_count": 2,
     "metadata": {},
     "output_type": "execute_result"
    }
   ],
   "source": [
    "let divise a b = b mod a=0;;\n",
    "let rec somme ?(k=1) n = if k=n then k*k else k*k + somme  ~k:(k+1) n;;\n",
    "let rec u n = if n=0 then 42. else 3.*.(u (n-1))**0.5+.2.;;\n",
    "let rec v a n = if n=0 then a else let j=v a (n-1) in 0.5*.(j+.a/.j);;"
   ]
  },
  {
   "cell_type": "markdown",
   "id": "07e7ca50-97be-4200-9d51-a185ed97db98",
   "metadata": {},
   "source": [
    "Il semblerait que quand n tende vers l'infini v a n tende vers racine de a. Par ailleurs on remarque que si \n",
    "v n = sqrt(a) alors v (n+1) = 1/2(sqrt(a)+a/sqrt(a)) = sqrt(a) <=> v n(+1) = v(n)."
   ]
  },
  {
   "cell_type": "code",
   "execution_count": 4,
   "id": "095d147c-791c-4f56-8507-b2ba2ab29bba",
   "metadata": {},
   "outputs": [
    {
     "data": {
      "text/plain": [
       "val euclide : int -> int -> int = <fun>\n"
      ]
     },
     "execution_count": 4,
     "metadata": {},
     "output_type": "execute_result"
    },
    {
     "data": {
      "text/plain": [
       "- : int = 21\n"
      ]
     },
     "execution_count": 4,
     "metadata": {},
     "output_type": "execute_result"
    }
   ],
   "source": [
    "let rec euclide a b = if b = 0 then a else euclide b (a mod b);;\n",
    "euclide 420 3003;"
   ]
  },
  {
   "cell_type": "markdown",
   "id": "7cf05809",
   "metadata": {},
   "source": [
    "## Exponentiation rapide\n",
    "\n",
    "1. Écrire une fonction récursive `puissance` naïve (c'est à dire très simple) telle que `puissance a n` renvoie $a^n$. Combien effectue t-elle de multiplications (en fonction de n) ?\n",
    "2. Écrire une fonction récursive `exp_rapide` pour calculer $a^n$, en utilisant les relations suivantes :\n",
    "$$ \n",
    "\\begin{cases} \n",
    "a^n = (a^{\\frac{n}{2}})^2 ~~~~~~~~~\\text{si }n\\text{ est pair}\\\\\n",
    "a^{n} = a \\times (a^{\\frac{n-1}{2}})^2 ~~~~~\\text{sinon}\n",
    "\\end{cases}\n",
    "$$\n",
    "**Attention** : pour mettre au carré, utiliser une variable plutôt que faire 2 appels récursifs, ce qui augmenterait beaucoup le nombre d'opérations.  \n",
    "**Remarque** : On montrera plus tard que cette 2ème version demande de l'ordre de $\\ln(n)$ multiplications seulement."
   ]
  },
  {
   "cell_type": "code",
   "execution_count": 1,
   "id": "6ff03d1f-75f3-4141-b5c3-14f28677a306",
   "metadata": {},
   "outputs": [
    {
     "data": {
      "text/plain": [
       "val puissancenaive : int -> int -> int = <fun>\n"
      ]
     },
     "execution_count": 1,
     "metadata": {},
     "output_type": "execute_result"
    },
    {
     "ename": "error",
     "evalue": "compile_error",
     "output_type": "error",
     "traceback": [
      "File \"[1]\", line 2, characters 49-55:\n2 | let rec exp_rapide a n = if n = 1 then a else if divise 2 n then let j = exp_rapide a (n/2) in j*j else let j = exp_rapide a ((n-1)/2) in a*j*j;; \n                                                     ^^^^^^\nError: Unbound value divise\n"
     ]
    }
   ],
   "source": [
    "let rec puissancenaive a n = if n=1 then a else a * puissancenaive a (n-1);;\n",
    "let rec exp_rapide a n = if n = 1 then a else if divise 2 n then let j = exp_rapide a (n/2) in j*j else let j = exp_rapide a ((n-1)/2) in a*j*j;; "
   ]
  },
  {
   "cell_type": "markdown",
   "id": "f299ef52",
   "metadata": {},
   "source": [
    "# Accumulateur\n",
    "\n",
    "On a vu dans le cours sur la récursivité (avec l'exemple de la suite de Fibonacci) qu'un accumulateur est un argument que l'on ajoute à une fonction pour calculer sa valeur de retour.  \n",
    "1. Écrire une fonction `fact` telle que `fact acc n` renvoie `n`!, en utilisant `acc` comme accumulateur. Voici à quoi va ressemble `fact` :\n",
    "```ocaml\n",
    "let rec fact acc n =\n",
    "    if n = 0 then acc  (* on renvoie l'accumulateur qui contient le résultat *)\n",
    "    else fact ... (* appel récursif en modifiant l'accumulateur *)\n",
    "```\n",
    "2. En utilisant `fact` et l'application partielle de fonction, définir `f : int -> int` renvoyant la factoielle d'un entier.\n",
    "\n",
    "**Remarque** : le but ici est juste de vous entraîner à savoir utiliser un accumulateur, qui sont parfois utiles (comme pour la fonction `fibo` du cours). En DS ou concours on évitera d'utiliser un accumulateur lorsqu'il y en a pas besoin (comme pour la fonction `fact`...), car cela rend le code plus compliqué.  "
   ]
  },
  {
   "cell_type": "code",
   "execution_count": 17,
   "id": "fe53da37-f130-42f9-8b81-c397edc6045b",
   "metadata": {},
   "outputs": [
    {
     "data": {
      "text/plain": [
       "val fact : ?acc:int -> int -> int = <fun>\n"
      ]
     },
     "execution_count": 17,
     "metadata": {},
     "output_type": "execute_result"
    },
    {
     "data": {
      "text/plain": [
       "- : int = 24\n"
      ]
     },
     "execution_count": 17,
     "metadata": {},
     "output_type": "execute_result"
    }
   ],
   "source": [
    "let rec fact ?(acc=1) n = if n = 0 then acc else fact ~acc:(acc*n) (n-1);;\n",
    "fact 4"
   ]
  },
  {
   "cell_type": "markdown",
   "id": "56db1136",
   "metadata": {},
   "source": [
    "## Temps de vol de la suite de Syracuse\n",
    "\n",
    "La suite de Syracuse d'un entier $a$ est définie par :  \n",
    "$$u_0 = a$$\n",
    "$$u_{n+1} =\n",
    "\\begin{cases} \n",
    "     \\frac{u_n}{2}, \\text{si } n \\text{ est pair}\\\\\n",
    "    3u_n + 1, \\text{sinon}\\\\\n",
    "\\end{cases}$$\n",
    "\n",
    "Le temps de vol de $(u_n)_n$ est le plus petit entier $t$ tel que $u_t = 1$.  \n",
    "\n",
    "1. Écrire une fonction récursive `temps_vol` telle que `temps_vol a` renvoie le temps de vol de $(u_n)_n$ (où $u_0 = a$)."
   ]
  },
  {
   "cell_type": "code",
   "execution_count": 22,
   "id": "6a3cf9c6-aab9-4a79-99c0-2dcb75ae6f0d",
   "metadata": {},
   "outputs": [
    {
     "data": {
      "text/plain": [
       "val temps_vol : ?u:int -> int -> int = <fun>\n"
      ]
     },
     "execution_count": 22,
     "metadata": {},
     "output_type": "execute_result"
    },
    {
     "data": {
      "text/plain": [
       "- : int = 111\n"
      ]
     },
     "execution_count": 22,
     "metadata": {},
     "output_type": "execute_result"
    }
   ],
   "source": [
    "let rec temps_vol ?(u=0) a = if a=1 then u else if divise 2 a then temps_vol ~u:(u+1) (a/2) else temps_vol ~u:(u+1) (3*a+1);;\n",
    "temps_vol 27"
   ]
  },
  {
   "cell_type": "markdown",
   "id": "c0cc5d04",
   "metadata": {},
   "source": [
    "## Fonction mystérieuse\n",
    "\n",
    "Tester la fonction suivante, conjecturer un théorème et prouvez-le par récurrence."
   ]
  },
  {
   "cell_type": "code",
   "execution_count": 39,
   "id": "baa1edde",
   "metadata": {
    "tags": []
   },
   "outputs": [
    {
     "data": {
      "text/plain": [
       "val f : int -> int = <fun>\n"
      ]
     },
     "execution_count": 39,
     "metadata": {},
     "output_type": "execute_result"
    }
   ],
   "source": [
    "let rec f n =\n",
    "    if n > 100 then n - 10 \n",
    "    else f(f (n + 11)) ;;"
   ]
  },
  {
   "cell_type": "markdown",
   "id": "526eafb3-e897-4463-971e-55c791837f44",
   "metadata": {},
   "source": [
    "Montrons que P(n) (\"si n>100 alors f(n) renvoie n-10, si n<=100 alors f(n) renvoie 91\") est vraie pour tout n appartenant à N.\n",
    "Par définition P(n) est vrai pour tout n>100.\n",
    "Faisons un récurence descendante forte à partir de n = 100.\n",
    "Initialisation si n = 100 alors le code renvoie f(f(111)) = f(101) = 91.\n",
    "\n",
    "Récurrence supposons p(n) vraie pour tout n appartenant à [[100,k]], k fixe.\n",
    "Montrons que p(k-1) est vraie. f(k-1) = f(f(k+10)).\n",
    "Si k+10>100, alors f(f(k+10)) = f(k). D'après l'hypothese de récurrence, f(k)=91 donc f(k-1)=91. Donc p(k-1) est vraie.\n",
    "Si k+10 <=100 alors f(f(k+10)) = f(91) d'après l'hypothèse de récurrence. Donc f(k-1)=91.\n",
    "Donc P(n) est vrai pour tout n appartenant a N.\n"
   ]
  },
  {
   "cell_type": "markdown",
   "id": "5ce213d3",
   "metadata": {},
   "source": [
    "let rec f x =\n",
    "if x = 0 then 2\n",
    "else let j = f (x-1) in j - j*(g (x-1))\n",
    "and\n",
    "g x =\n",
    "if x=0 then 3\n",
    "else let k = g (x-1) in k + k*(f (x-1));;\n",
    "\n",
    "f 3## Fonctions mutuellement récursives\n",
    "\n",
    "Il est possible de définir simultanément deux fonctions `f` et `g`, dépendant l'une de l'autre avec `and` :\n",
    "```ocaml\n",
    "let rec f x = ... and g y = ... in ...\n",
    "```\n",
    "\n",
    "Écrire deux fonctions `u` et `v` permettant de calculer le $nième$ terme des suites définies par :\n",
    "$$u_0 = 2$$\n",
    "$$v_0 = 3$$\n",
    "$$u_{n + 1} = u_n - u_n v_n$$\n",
    "$$v_{n + 1} = v_n + u_n v_n$$"
   ]
  },
  {
   "cell_type": "code",
   "execution_count": 3,
   "id": "0c43ddca-1d63-478a-85f5-53b80f0474c9",
   "metadata": {},
   "outputs": [
    {
     "data": {
      "text/plain": [
       "val f : int -> int = <fun>\n",
       "val g : int -> int = <fun>\n"
      ]
     },
     "execution_count": 3,
     "metadata": {},
     "output_type": "execute_result"
    },
    {
     "data": {
      "text/plain": [
       "- : int = 896\n"
      ]
     },
     "execution_count": 3,
     "metadata": {},
     "output_type": "execute_result"
    }
   ],
   "source": [
    "let rec f x =\n",
    "if x = 0 then 2\n",
    "else let j = f (x-1) in j - j*(g (x-1))\n",
    "and\n",
    "g x =\n",
    "if x=0 then 3\n",
    "else let k = g (x-1) in k + k*(f (x-1));;\n",
    "\n",
    "f 3"
   ]
  },
  {
   "cell_type": "markdown",
   "id": "93314856",
   "metadata": {},
   "source": [
    "## Retour sur les tours de Hanoi\n",
    "\n",
    "**Remarque** : le problème des tours de Hanoi a déjà été vu en stage, mais on le refait ici en OCaml. En outre, il est utile de réactiver sa mémoire pour se souvenir des méthodes et il m'arrivera pendant l'année de redonner des exercices déjà posés."
   ]
  },
  {
   "cell_type": "markdown",
   "id": "83ab905e",
   "metadata": {},
   "source": [
    "![](../img/hanoi.png)\n",
    "\n",
    "$n$ disques sont posés sur la tige à gauche. L'objectif est de déplacer tous les disques sur la tige à droite :\n",
    "\n",
    "![](../img/hanoi2.png)\n",
    "\n",
    "Règles du jeu :\n",
    "\n",
    "- On ne peut déplacer qu'un disque à la fois (celui tout en haut), sur une autre tige.\n",
    "- Il est interdit de poser un disque sur un autre plus petit.\n",
    "\n",
    "Exemple de premier déplacement valide :\n",
    "\n",
    "![](../img/hanoi3.png)\n",
    "\n",
    "On souhaite écrire une fonction récursive `hanoi` telle que `hanoi n tige1 tige2` affiche une suite de déplacements (avec des `print_int`) permettant de déplacer $n$ disques depuis `tige1` vers `tige2`. On supposera que les tiges sont numérotées 0, 1, 2 (de gauche à droite).\n",
    "\n",
    "1. Supposons que vous sachiez déplacer $n-1$ disques d'une tige à une autre. Comment déplacer $n$ disques d'une tige à une autre ?\n",
    "2. Écrire `hanoi`."
   ]
  },
  {
   "cell_type": "markdown",
   "id": "a3e96d25-e0f7-4a23-a7f1-61b93422bc39",
   "metadata": {},
   "source": [
    "Si je sais déplacer n-1 disques d'une tige A à une tige B pour déplacer n disques d'une disque à une autre, il suffit de déplacer n-1 disques de la tige A à la tige C puis de déplacer le dernier disque de la tige A à la tige B puis de redéplacer les n-1 disques de la tige C à la tige B."
   ]
  },
  {
   "cell_type": "code",
   "execution_count": 10,
   "id": "c83ab49e-6083-47d8-b48f-ec4f1887186a",
   "metadata": {},
   "outputs": [
    {
     "data": {
      "text/plain": [
       "val hanoi : int -> int -> int -> unit = <fun>\n"
      ]
     },
     "execution_count": 10,
     "metadata": {},
     "output_type": "execute_result"
    },
    {
     "name": "stdout",
     "output_type": "stream",
     "text": [
      "1=>2\n",
      "1=>3\n",
      "2=>3\n",
      "1=>2\n",
      "3=>1\n",
      "3=>2\n",
      "1=>2\n",
      "\n"
     ]
    },
    {
     "data": {
      "text/plain": [
       "- : unit = ()\n"
      ]
     },
     "execution_count": 10,
     "metadata": {},
     "output_type": "execute_result"
    },
    {
     "ename": "interrupt",
     "evalue": "intterupt",
     "output_type": "error",
     "traceback": [
      "\u001b[31mException: Sys.Break.\u001b[0m"
     ]
    }
   ],
   "source": [
    "let rec hanoi n tige1 tige2 = \n",
    "if n=1 \n",
    "then (print_int(tige1);print_string \"=>\";print_int(tige2);print_string(\"\\n\"))\n",
    "else (hanoi (n-1) tige1 (6-(tige1 + tige2)); hanoi 1 tige1 tige2; hanoi (n-1)(6-(tige1 + tige2)) tige2);;\n",
    "\n",
    "hanoi 3 1 2;\n",
    "print_newline()"
   ]
  },
  {
   "cell_type": "code",
   "execution_count": 7,
   "id": "fba142b5-bd23-4c19-b4e5-907296aaaafc",
   "metadata": {},
   "outputs": [
    {
     "name": "stdout",
     "output_type": "stream",
     "text": [
      "55\n"
     ]
    },
    {
     "data": {
      "text/plain": [
       "- : unit = ()\n"
      ]
     },
     "execution_count": 7,
     "metadata": {},
     "output_type": "execute_result"
    }
   ],
   "source": [
    "print_int(5);\n",
    "\n",
    "print_newline()\n",
    "print_int(5);\n",
    "print_newline()"
   ]
  }
 ],
 "metadata": {
  "kernelspec": {
   "display_name": "OCaml default",
   "language": "OCaml",
   "name": "ocaml-jupyter"
  },
  "language_info": {
   "codemirror_mode": "text/x-ocaml",
   "file_extension": ".ml",
   "mimetype": "text/x-ocaml",
   "name": "OCaml",
   "nbconverter_exporter": null,
   "pygments_lexer": "OCaml",
   "version": "4.08.1"
  }
 },
 "nbformat": 4,
 "nbformat_minor": 5
}
